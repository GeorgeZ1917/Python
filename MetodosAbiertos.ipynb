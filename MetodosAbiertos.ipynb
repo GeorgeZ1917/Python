{
 "cells": [
  {
   "cell_type": "code",
   "execution_count": 66,
   "metadata": {},
   "outputs": [
    {
     "name": "stdout",
     "output_type": "stream",
     "text": [
      "0.5671432904097811\n",
      "1.0\n",
      "0.5671432905275368\n",
      "1.0000023814938874\n",
      "6836.576921237704\n"
     ]
    }
   ],
   "source": [
    "import math\n",
    "import numpy as np\n",
    "import matplotlib.pyplot as plt\n",
    "\n",
    "#Iteración simple de punto fijo\n",
    "\n",
    "\n",
    "#Método de Newton-Raphson\n",
    "\n",
    "def f1 ( x ) :\n",
    "    result = math.e ** ( - x ) - x\n",
    "    return result\n",
    "def fprime1 ( x ) :\n",
    "    result = - math.e ** ( - x ) - 1\n",
    "    return result\n",
    "\n",
    "def f2 ( x ) :\n",
    "    result = ( x ** 10 ) - 1\n",
    "    return result\n",
    "def fprime2 ( x ) :\n",
    "    result = 10 * x ** 9\n",
    "    return result\n",
    "def NewtonRaphson ( x, f, fprime ) :\n",
    "    xi = x\n",
    "    while ( abs ( f ( xi ) ) > 10 ** - 9 ) :\n",
    "        num = f ( xi )\n",
    "        den = fprime ( xi )\n",
    "        xi = xi - num / den\n",
    "    return xi\n",
    "\n",
    "#Método de la secante\n",
    "\n",
    "def f3 ( x ) :\n",
    "    result = math.e ** ( - x ) - x\n",
    "    return result\n",
    "def Secante ( ximinus1, xi, f ) :\n",
    "    while ( abs ( f ( xi ) ) > 10 ** - 9 ) :\n",
    "        num = f ( ximinus1 ) * ( ximinus1 - xi )\n",
    "        den = f ( ximinus1 ) - f ( xi )\n",
    "        xi = ximinus1 - num / den\n",
    "    return xi\n",
    "\n",
    "#Método de Newton-Raphson modificado\n",
    "\n",
    "def f4 ( x ) :\n",
    "    result = ( x - 3 ) * ( x - 1 ) * ( x - 1 )\n",
    "    return result\n",
    "def fprime4 ( x ) :\n",
    "    result = 3 * x ** 2 - 10 * x + 7\n",
    "    return result\n",
    "def fsecondprime4 ( x ):\n",
    "    result = 6 * x - 10\n",
    "    return result\n",
    "def NewtonRaphsonModificado ( x, f, fprime, fsecondprime ) :\n",
    "    xi = x\n",
    "    while ( abs ( f ( xi ) ) > 10 ** - 9 ) :\n",
    "        num = f ( xi ) * fprime ( xi )\n",
    "        den = fprime ( xi ) ** 2 - f ( xi ) * fsecondprime ( xi )\n",
    "        xi = xi - num / den\n",
    "    return xi\n",
    "def NewtonRoot ( n ) :\n",
    "    xi = n\n",
    "    while xi ** 2 - n > 10 ** - 9 :\n",
    "        xi = 0.5 * ( xi + n / xi )\n",
    "    return xi\n",
    "print ( NewtonRaphson ( 0, f1, fprime1 ) )\n",
    "print ( NewtonRaphson ( 0.5, f2, fprime2 ) )\n",
    "print ( Secante ( 0, 1, f3 ) )\n",
    "print ( NewtonRaphsonModificado ( 0, f4, fprime4, fsecondprime4 ) )\n",
    "print ( NewtonRoot ( 46738784 ) )"
   ]
  },
  {
   "cell_type": "code",
   "execution_count": null,
   "metadata": {},
   "outputs": [],
   "source": []
  }
 ],
 "metadata": {
  "kernelspec": {
   "display_name": "Python 3",
   "language": "python",
   "name": "python3"
  },
  "language_info": {
   "codemirror_mode": {
    "name": "ipython",
    "version": 3
   },
   "file_extension": ".py",
   "mimetype": "text/x-python",
   "name": "python",
   "nbconvert_exporter": "python",
   "pygments_lexer": "ipython3",
   "version": "3.8.3"
  }
 },
 "nbformat": 4,
 "nbformat_minor": 4
}
